{
 "cells": [
  {
   "cell_type": "code",
   "execution_count": 1,
   "metadata": {
    "collapsed": true
   },
   "outputs": [],
   "source": [
    "import os\n",
    "import h5py as h5\n",
    "import numpy as np"
   ]
  },
  {
   "cell_type": "code",
   "execution_count": 2,
   "metadata": {
    "collapsed": false
   },
   "outputs": [],
   "source": [
    "# ------------------------------\n",
    "output_dir = r'C:\\Users\\george.crowther\\Dropbox (OptaSense OFS)\\Customer Projects\\Rice Energy\\Belmont Project\\Belmont_-_HFP\\Output'\n",
    "output_list = []\n",
    "for directory, sub_dir, filenames in os.walk(output_dir):\n",
    "    for fname in filenames:\n",
    "        if fname.endswith('.h5'):\n",
    "            output_list.append(os.path.join(directory, fname))"
   ]
  },
  {
   "cell_type": "code",
   "execution_count": 45,
   "metadata": {
    "collapsed": true
   },
   "outputs": [],
   "source": [
    "corrections = [3704, 3704, 3585, 3525, 3407, 3347, 3228, 3228]"
   ]
  },
  {
   "cell_type": "code",
   "execution_count": 41,
   "metadata": {
    "collapsed": false
   },
   "outputs": [],
   "source": [
    "def correct_channel_order(fpath, correction, plot_output = True):\n",
    "    with h5.File(fpath, 'r+') as f:\n",
    "        for band in range(5):\n",
    "            data = f['/Acquisition/Processed/Fbe[1]/FbeData[{0}]'.format(band)]\n",
    "            \n",
    "            upper = data[:, :correction - f['/Acquisition'].attrs['StartLocusIndex']]\n",
    "            print(\"Upper: \", upper.shape)\n",
    "            lower = data[:, correction - f['/Acquisition'].attrs['StartLocusIndex']:]\n",
    "            print(\"Lower: \", lower.shape)\n",
    "            \n",
    "            upper_stripped = upper[:, ~np.all(upper == 0, axis = 0)]\n",
    "            print(\"Upper_stripped: \", upper_stripped.shape)\n",
    "            lower_stripped = lower[:, ~np.all(lower == 0, axis = 0)]\n",
    "            print(\"Lower_stripped: \", lower_stripped.shape)\n",
    "            \n",
    "            leading_zeros = upper[:, np.all(upper == 0, axis = 0)]\n",
    "            print(leading_zeros.shape)\n",
    "            leading_zeros[:, -1*lower_stripped.shape[1]:] = lower_stripped\n",
    "            print(leading_zeros.shape)\n",
    "            trailing_zeros = lower[:, np.all(lower == 0, axis = 0)]\n",
    "            print(trailing_zeros.shape)\n",
    "            trailing_zeros = np.concatenate((trailing_zeros, np.zeros_like(lower_stripped)), axis = 1)\n",
    "            print(trailing_zeros.shape)\n",
    "            \n",
    "            corrected_data = np.concatenate((leading_zeros, upper_stripped, trailing_zeros), axis = 1)\n",
    "            \n",
    "            if band == 1 and plot_output:\n",
    "                fig, ax = plt.subplots(1, 2, figsize = (10, 10), sharey = True)\n",
    "                ax[0].imshow(10*np.log10(data).T, aspect = 'auto')\n",
    "                ax[1].imshow(10*np.log10(corrected_data).T, aspect = 'auto')\n",
    "                plt.show()\n",
    "                \n",
    "            \n",
    "            data[...] = corrected_data"
   ]
  },
  {
   "cell_type": "code",
   "execution_count": 46,
   "metadata": {
    "collapsed": false,
    "scrolled": true
   },
   "outputs": [
    {
     "name": "stdout",
     "output_type": "stream",
     "text": [
      "Upper:  (9997, 1205)\n",
      "Lower:  (9997, 2149)\n",
      "Upper_stripped:  (9997, 656)\n",
      "Lower_stripped:  (9997, 61)\n",
      "(9997, 549)\n",
      "(9997, 549)\n",
      "(9997, 2088)\n",
      "(9997, 2149)\n",
      "Upper:  (9997, 1205)\n",
      "Lower:  (9997, 2149)\n",
      "Upper_stripped:  (9997, 656)\n",
      "Lower_stripped:  (9997, 61)\n",
      "(9997, 549)\n",
      "(9997, 549)\n",
      "(9997, 2088)\n",
      "(9997, 2149)\n",
      "Upper:  (9997, 1205)\n",
      "Lower:  (9997, 2149)\n",
      "Upper_stripped:  (9997, 656)\n",
      "Lower_stripped:  (9997, 61)\n",
      "(9997, 549)\n",
      "(9997, 549)\n",
      "(9997, 2088)\n",
      "(9997, 2149)\n",
      "Upper:  (9997, 1205)\n",
      "Lower:  (9997, 2149)\n",
      "Upper_stripped:  (9997, 656)\n",
      "Lower_stripped:  (9997, 61)\n",
      "(9997, 549)\n",
      "(9997, 549)\n",
      "(9997, 2088)\n",
      "(9997, 2149)\n",
      "Upper:  (9997, 1205)\n",
      "Lower:  (9997, 2149)\n",
      "Upper_stripped:  (9997, 656)\n",
      "Lower_stripped:  (9997, 61)\n",
      "(9997, 549)\n",
      "(9997, 549)\n",
      "(9997, 2088)\n",
      "(9997, 2149)\n",
      "Upper:  (12212, 1205)\n",
      "Lower:  (12212, 2149)\n",
      "Upper_stripped:  (12212, 656)\n",
      "Lower_stripped:  (12212, 61)\n",
      "(12212, 549)\n",
      "(12212, 549)\n",
      "(12212, 2088)\n",
      "(12212, 2149)\n",
      "Upper:  (12212, 1205)\n",
      "Lower:  (12212, 2149)\n",
      "Upper_stripped:  (12212, 656)\n",
      "Lower_stripped:  (12212, 61)\n",
      "(12212, 549)\n",
      "(12212, 549)\n",
      "(12212, 2088)\n",
      "(12212, 2149)\n",
      "Upper:  (12212, 1205)\n",
      "Lower:  (12212, 2149)\n",
      "Upper_stripped:  (12212, 656)\n",
      "Lower_stripped:  (12212, 61)\n",
      "(12212, 549)\n",
      "(12212, 549)\n",
      "(12212, 2088)\n",
      "(12212, 2149)\n",
      "Upper:  (12212, 1205)\n",
      "Lower:  (12212, 2149)\n",
      "Upper_stripped:  (12212, 656)\n",
      "Lower_stripped:  (12212, 61)\n",
      "(12212, 549)\n",
      "(12212, 549)\n",
      "(12212, 2088)\n",
      "(12212, 2149)\n",
      "Upper:  (12212, 1205)\n",
      "Lower:  (12212, 2149)\n",
      "Upper_stripped:  (12212, 656)\n",
      "Lower_stripped:  (12212, 61)\n",
      "(12212, 549)\n",
      "(12212, 549)\n",
      "(12212, 2088)\n",
      "(12212, 2149)\n",
      "Upper:  (17767, 1086)\n",
      "Lower:  (17767, 2268)\n",
      "Upper_stripped:  (17767, 537)\n",
      "Lower_stripped:  (17767, 180)\n",
      "(17767, 549)\n",
      "(17767, 549)\n",
      "(17767, 2088)\n",
      "(17767, 2268)\n",
      "Upper:  (17767, 1086)\n",
      "Lower:  (17767, 2268)\n",
      "Upper_stripped:  (17767, 537)\n",
      "Lower_stripped:  (17767, 180)\n",
      "(17767, 549)\n",
      "(17767, 549)\n",
      "(17767, 2088)\n",
      "(17767, 2268)\n",
      "Upper:  (17767, 1086)\n",
      "Lower:  (17767, 2268)\n",
      "Upper_stripped:  (17767, 537)\n",
      "Lower_stripped:  (17767, 180)\n",
      "(17767, 549)\n",
      "(17767, 549)\n",
      "(17767, 2088)\n",
      "(17767, 2268)\n",
      "Upper:  (17767, 1086)\n",
      "Lower:  (17767, 2268)\n",
      "Upper_stripped:  (17767, 537)\n",
      "Lower_stripped:  (17767, 180)\n",
      "(17767, 549)\n",
      "(17767, 549)\n",
      "(17767, 2088)\n",
      "(17767, 2268)\n",
      "Upper:  (17767, 1086)\n",
      "Lower:  (17767, 2268)\n",
      "Upper_stripped:  (17767, 537)\n",
      "Lower_stripped:  (17767, 180)\n",
      "(17767, 549)\n",
      "(17767, 549)\n",
      "(17767, 2088)\n",
      "(17767, 2268)\n",
      "Upper:  (10406, 1026)\n",
      "Lower:  (10406, 2328)\n",
      "Upper_stripped:  (10406, 477)\n",
      "Lower_stripped:  (10406, 240)\n",
      "(10406, 549)\n",
      "(10406, 549)\n",
      "(10406, 2088)\n",
      "(10406, 2328)\n",
      "Upper:  (10406, 1026)\n",
      "Lower:  (10406, 2328)\n",
      "Upper_stripped:  (10406, 477)\n",
      "Lower_stripped:  (10406, 240)\n",
      "(10406, 549)\n",
      "(10406, 549)\n",
      "(10406, 2088)\n",
      "(10406, 2328)\n",
      "Upper:  (10406, 1026)\n",
      "Lower:  (10406, 2328)\n",
      "Upper_stripped:  (10406, 477)\n",
      "Lower_stripped:  (10406, 240)\n",
      "(10406, 549)\n",
      "(10406, 549)\n",
      "(10406, 2088)\n",
      "(10406, 2328)\n",
      "Upper:  (10406, 1026)\n",
      "Lower:  (10406, 2328)\n",
      "Upper_stripped:  (10406, 477)\n",
      "Lower_stripped:  (10406, 240)\n",
      "(10406, 549)\n",
      "(10406, 549)\n",
      "(10406, 2088)\n",
      "(10406, 2328)\n",
      "Upper:  (10406, 1026)\n",
      "Lower:  (10406, 2328)\n",
      "Upper_stripped:  (10406, 477)\n",
      "Lower_stripped:  (10406, 240)\n",
      "(10406, 549)\n",
      "(10406, 549)\n",
      "(10406, 2088)\n",
      "(10406, 2328)\n",
      "Upper:  (10325, 908)\n",
      "Lower:  (10325, 2446)\n",
      "Upper_stripped:  (10325, 359)\n",
      "Lower_stripped:  (10325, 359)\n",
      "(10325, 549)\n",
      "(10325, 549)\n",
      "(10325, 2087)\n",
      "(10325, 2446)\n",
      "Upper:  (10325, 908)\n",
      "Lower:  (10325, 2446)\n",
      "Upper_stripped:  (10325, 359)\n",
      "Lower_stripped:  (10325, 359)\n",
      "(10325, 549)\n",
      "(10325, 549)\n",
      "(10325, 2087)\n",
      "(10325, 2446)\n",
      "Upper:  (10325, 908)\n",
      "Lower:  (10325, 2446)\n",
      "Upper_stripped:  (10325, 359)\n",
      "Lower_stripped:  (10325, 359)\n",
      "(10325, 549)\n",
      "(10325, 549)\n",
      "(10325, 2087)\n",
      "(10325, 2446)\n",
      "Upper:  (10325, 908)\n",
      "Lower:  (10325, 2446)\n",
      "Upper_stripped:  (10325, 359)\n",
      "Lower_stripped:  (10325, 359)\n",
      "(10325, 549)\n",
      "(10325, 549)\n",
      "(10325, 2087)\n",
      "(10325, 2446)\n",
      "Upper:  (10325, 908)\n",
      "Lower:  (10325, 2446)\n",
      "Upper_stripped:  (10325, 359)\n",
      "Lower_stripped:  (10325, 359)\n",
      "(10325, 549)\n",
      "(10325, 549)\n",
      "(10325, 2087)\n",
      "(10325, 2446)\n",
      "Upper:  (19488, 848)\n",
      "Lower:  (19488, 2506)\n",
      "Upper_stripped:  (19488, 299)\n",
      "Lower_stripped:  (19488, 418)\n",
      "(19488, 549)\n",
      "(19488, 549)\n",
      "(19488, 2088)\n",
      "(19488, 2506)\n",
      "Upper:  (19488, 848)\n",
      "Lower:  (19488, 2506)\n",
      "Upper_stripped:  (19488, 299)\n",
      "Lower_stripped:  (19488, 418)\n",
      "(19488, 549)\n",
      "(19488, 549)\n",
      "(19488, 2088)\n",
      "(19488, 2506)\n",
      "Upper:  (19488, 848)\n",
      "Lower:  (19488, 2506)\n",
      "Upper_stripped:  (19488, 299)\n",
      "Lower_stripped:  (19488, 418)\n",
      "(19488, 549)\n",
      "(19488, 549)\n",
      "(19488, 2088)\n",
      "(19488, 2506)\n",
      "Upper:  (19488, 848)\n",
      "Lower:  (19488, 2506)\n",
      "Upper_stripped:  (19488, 299)\n",
      "Lower_stripped:  (19488, 418)\n",
      "(19488, 549)\n",
      "(19488, 549)\n",
      "(19488, 2088)\n",
      "(19488, 2506)\n",
      "Upper:  (19488, 848)\n",
      "Lower:  (19488, 2506)\n",
      "Upper_stripped:  (19488, 299)\n",
      "Lower_stripped:  (19488, 418)\n",
      "(19488, 549)\n",
      "(19488, 549)\n",
      "(19488, 2088)\n",
      "(19488, 2506)\n",
      "Upper:  (8019, 729)\n",
      "Lower:  (8019, 2625)\n",
      "Upper_stripped:  (8019, 181)\n",
      "Lower_stripped:  (8019, 537)\n",
      "(8019, 548)\n",
      "(8019, 548)\n",
      "(8019, 2088)\n",
      "(8019, 2625)\n",
      "Upper:  (8019, 729)\n",
      "Lower:  (8019, 2625)\n",
      "Upper_stripped:  (8019, 181)\n",
      "Lower_stripped:  (8019, 537)\n",
      "(8019, 548)\n",
      "(8019, 548)\n",
      "(8019, 2088)\n",
      "(8019, 2625)\n",
      "Upper:  (8019, 729)\n",
      "Lower:  (8019, 2625)\n",
      "Upper_stripped:  (8019, 181)\n",
      "Lower_stripped:  (8019, 537)\n",
      "(8019, 548)\n",
      "(8019, 548)\n",
      "(8019, 2088)\n",
      "(8019, 2625)\n",
      "Upper:  (8019, 729)\n",
      "Lower:  (8019, 2625)\n",
      "Upper_stripped:  (8019, 181)\n",
      "Lower_stripped:  (8019, 537)\n",
      "(8019, 548)\n",
      "(8019, 548)\n",
      "(8019, 2088)\n",
      "(8019, 2625)\n",
      "Upper:  (8019, 729)\n",
      "Lower:  (8019, 2625)\n",
      "Upper_stripped:  (8019, 181)\n",
      "Lower_stripped:  (8019, 537)\n",
      "(8019, 548)\n",
      "(8019, 548)\n",
      "(8019, 2088)\n",
      "(8019, 2625)\n",
      "Upper:  (9193, 729)\n",
      "Lower:  (9193, 2625)\n",
      "Upper_stripped:  (9193, 181)\n",
      "Lower_stripped:  (9193, 537)\n",
      "(9193, 548)\n",
      "(9193, 548)\n",
      "(9193, 2088)\n",
      "(9193, 2625)\n",
      "Upper:  (9193, 729)\n",
      "Lower:  (9193, 2625)\n",
      "Upper_stripped:  (9193, 181)\n",
      "Lower_stripped:  (9193, 537)\n",
      "(9193, 548)\n",
      "(9193, 548)\n",
      "(9193, 2088)\n",
      "(9193, 2625)\n",
      "Upper:  (9193, 729)\n",
      "Lower:  (9193, 2625)\n",
      "Upper_stripped:  (9193, 181)\n",
      "Lower_stripped:  (9193, 537)\n",
      "(9193, 548)\n",
      "(9193, 548)\n",
      "(9193, 2088)\n",
      "(9193, 2625)\n",
      "Upper:  (9193, 729)\n",
      "Lower:  (9193, 2625)\n",
      "Upper_stripped:  (9193, 181)\n",
      "Lower_stripped:  (9193, 537)\n",
      "(9193, 548)\n",
      "(9193, 548)\n",
      "(9193, 2088)\n",
      "(9193, 2625)\n",
      "Upper:  (9193, 729)\n",
      "Lower:  (9193, 2625)\n",
      "Upper_stripped:  (9193, 181)\n",
      "Lower_stripped:  (9193, 537)\n",
      "(9193, 548)\n",
      "(9193, 548)\n",
      "(9193, 2088)\n",
      "(9193, 2625)\n"
     ]
    }
   ],
   "source": [
    "for i, fpath in enumerate(output_list):\n",
    "    correct_channel_order(fpath, corrections[i], plot_output=False)"
   ]
  },
  {
   "cell_type": "code",
   "execution_count": 32,
   "metadata": {
    "collapsed": false
   },
   "outputs": [
    {
     "data": {
      "text/plain": [
       "(9997, 3354)"
      ]
     },
     "execution_count": 32,
     "metadata": {},
     "output_type": "execute_result"
    }
   ],
   "source": [
    "y.shape"
   ]
  },
  {
   "cell_type": "code",
   "execution_count": 33,
   "metadata": {
    "collapsed": false
   },
   "outputs": [
    {
     "data": {
      "text/plain": [
       "(9997, 3354)"
      ]
     },
     "execution_count": 33,
     "metadata": {},
     "output_type": "execute_result"
    }
   ],
   "source": [
    "x.shape"
   ]
  },
  {
   "cell_type": "code",
   "execution_count": 40,
   "metadata": {
    "collapsed": false
   },
   "outputs": [
    {
     "data": {
      "text/plain": [
       "3354"
      ]
     },
     "execution_count": 40,
     "metadata": {},
     "output_type": "execute_result"
    }
   ],
   "source": [
    "656 + 61 + 549 + 2088"
   ]
  },
  {
   "cell_type": "code",
   "execution_count": 27,
   "metadata": {
    "collapsed": false
   },
   "outputs": [
    {
     "data": {
      "text/plain": [
       "2149"
      ]
     },
     "execution_count": 27,
     "metadata": {},
     "output_type": "execute_result"
    }
   ],
   "source": [
    "61 + 2088"
   ]
  },
  {
   "cell_type": "code",
   "execution_count": 29,
   "metadata": {
    "collapsed": false
   },
   "outputs": [
    {
     "data": {
      "text/plain": [
       "3354"
      ]
     },
     "execution_count": 29,
     "metadata": {},
     "output_type": "execute_result"
    }
   ],
   "source": [
    "656 + 549 + 2149"
   ]
  },
  {
   "cell_type": "code",
   "execution_count": null,
   "metadata": {
    "collapsed": true
   },
   "outputs": [],
   "source": []
  }
 ],
 "metadata": {
  "anaconda-cloud": {},
  "kernelspec": {
   "display_name": "Python [default]",
   "language": "python",
   "name": "python3"
  },
  "language_info": {
   "codemirror_mode": {
    "name": "ipython",
    "version": 3
   },
   "file_extension": ".py",
   "mimetype": "text/x-python",
   "name": "python",
   "nbconvert_exporter": "python",
   "pygments_lexer": "ipython3",
   "version": "3.5.2"
  }
 },
 "nbformat": 4,
 "nbformat_minor": 0
}
