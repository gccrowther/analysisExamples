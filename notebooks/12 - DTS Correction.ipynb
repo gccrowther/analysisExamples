{
 "cells": [
  {
   "cell_type": "code",
   "execution_count": 1,
   "metadata": {
    "collapsed": true
   },
   "outputs": [],
   "source": [
    "import os\n",
    "import sys\n",
    "import struct\n",
    "\n",
    "import numpy as np\n",
    "\n",
    "from datetime import datetime\n",
    "\n",
    "from dts_correction import *"
   ]
  },
  {
   "cell_type": "code",
   "execution_count": 2,
   "metadata": {},
   "outputs": [],
   "source": [
    "INPUT = r'E:\\Backup - 04102017\\ShareFile\\Personal Folders\\Rice Energy\\Belmont Project\\data\\DTS_Fracture_Treatment'\n",
    "OUTPUT = r'E:\\Backup - 04102017\\ShareFile\\Personal Folders\\Rice Energy\\Belmont Project\\data\\DTS_Fracture_Treatment_07'"
   ]
  },
  {
   "cell_type": "code",
   "execution_count": null,
   "metadata": {},
   "outputs": [],
   "source": [
    "in_list = os.listdir(INPUT)\n",
    "out_list = os.listdir(OUTPUT)\n",
    "\n",
    "file_list = [os.path.join(INPUT, f) for f in in_list if f not in out_list] "
   ]
  },
  {
   "cell_type": "code",
   "execution_count": null,
   "metadata": {},
   "outputs": [
    {
     "name": "stdout",
     "output_type": "stream",
     "text": [
      "Initialised at 2017-10-10 16:18:11.165796\n"
     ]
    }
   ],
   "source": [
    "from multiprocessing import Pool\n",
    "\n",
    "print(\"Initialised at {0}\".format(datetime.now()))\n",
    "p = Pool(4)\n",
    "p.map(dts_correction, file_list)\n",
    "print(\"Completed at {0}\".format(datetime.now()))"
   ]
  },
  {
   "cell_type": "code",
   "execution_count": null,
   "metadata": {
    "collapsed": true
   },
   "outputs": [],
   "source": []
  }
 ],
 "metadata": {
  "kernelspec": {
   "display_name": "Python 3",
   "language": "python",
   "name": "python3"
  },
  "language_info": {
   "codemirror_mode": {
    "name": "ipython",
    "version": 3
   },
   "file_extension": ".py",
   "mimetype": "text/x-python",
   "name": "python",
   "nbconvert_exporter": "python",
   "pygments_lexer": "ipython3",
   "version": "3.6.2"
  }
 },
 "nbformat": 4,
 "nbformat_minor": 2
}
